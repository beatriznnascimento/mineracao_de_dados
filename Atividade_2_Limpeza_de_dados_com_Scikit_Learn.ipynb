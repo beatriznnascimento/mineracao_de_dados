{
  "cells": [
    {
      "cell_type": "markdown",
      "metadata": {
        "id": "TPU0-NiYFZl_"
      },
      "source": [
        "<a target=\"_blank\" href=\"https://colab.research.google.com/github/paulotguerra/QXD0178/blob/main/01.E0-Excercicio-Limpeza-de-dados.ipynb\">\n",
        "  <img src=\"https://colab.research.google.com/assets/colab-badge.svg\" alt=\"Open In Colab\"/>\n",
        "</a>"
      ]
    },
    {
      "cell_type": "markdown",
      "metadata": {
        "id": "8TwHTO0AFZmB"
      },
      "source": [
        "## QXD0178 - Mineração de Dados\n",
        "# Preparação da base de dados com Scikit-Learn"
      ]
    },
    {
      "cell_type": "markdown",
      "metadata": {
        "id": "XfPmHnpdFZmH"
      },
      "source": [
        "### Carga do conjunto de dados `food_coded.csv`"
      ]
    },
    {
      "cell_type": "code",
      "execution_count": 163,
      "metadata": {
        "id": "n8ji8vLGFZmI",
        "collapsed": true
      },
      "outputs": [],
      "source": [
        "import numpy as np\n",
        "import pandas as pd\n",
        "from sklearn.impute import SimpleImputer\n",
        "from sklearn.pipeline import Pipeline\n",
        "\n",
        "df = pd.read_csv(\"https://raw.githubusercontent.com/She-Codes-Now/Intro-to-Data-Science-with-R/master/food_coded.csv\")"
      ]
    },
    {
      "cell_type": "markdown",
      "source": [
        "### RESOLUÇÃO DA ATIVIDADE"
      ],
      "metadata": {
        "id": "V1snynIS_s2B"
      }
    },
    {
      "cell_type": "markdown",
      "source": [
        "Irei verificar quais células possuem dados faltantes para que possam ser preenchidos."
      ],
      "metadata": {
        "id": "wg8LlRzqEjP5"
      }
    },
    {
      "cell_type": "code",
      "source": [
        "missing_data = df.isnull().sum()\n",
        "print(missing_data[missing_data > 0])"
      ],
      "metadata": {
        "colab": {
          "base_uri": "https://localhost:8080/"
        },
        "collapsed": true,
        "id": "dYXCGNbgElzz",
        "outputId": "087bc20c-5467-4326-d60e-6d23227560e7"
      },
      "execution_count": 164,
      "outputs": [
        {
          "output_type": "stream",
          "name": "stdout",
          "text": [
            "GPA                            2\n",
            "calories_day                  19\n",
            "calories_scone                 1\n",
            "comfort_food                   1\n",
            "comfort_food_reasons           2\n",
            "comfort_food_reasons_coded    19\n",
            "cook                           3\n",
            "cuisine                       17\n",
            "diet_current                   1\n",
            "drink                          2\n",
            "eating_changes                 3\n",
            "employment                     9\n",
            "exercise                      13\n",
            "father_education               1\n",
            "father_profession              3\n",
            "fav_cuisine                    2\n",
            "fav_food                       2\n",
            "food_childhood                 1\n",
            "healthy_meal                   1\n",
            "ideal_diet                     1\n",
            "income                         1\n",
            "life_rewarding                 1\n",
            "marital_status                 1\n",
            "meals_dinner_friend            3\n",
            "mother_education               3\n",
            "mother_profession              2\n",
            "on_off_campus                  1\n",
            "persian_food                   1\n",
            "self_perception_weight         1\n",
            "soup                           1\n",
            "sports                         2\n",
            "tortilla_calories              1\n",
            "type_sports                   26\n",
            "weight                         2\n",
            "dtype: int64\n"
          ]
        }
      ]
    },
    {
      "cell_type": "markdown",
      "source": [
        "Filtrando as colunas do tipo `object`:\n"
      ],
      "metadata": {
        "id": "b3YykIXoJt2e"
      }
    },
    {
      "cell_type": "code",
      "source": [
        "object_columns = df.select_dtypes(include=['object']).columns\n",
        "print(object_columns)"
      ],
      "metadata": {
        "colab": {
          "base_uri": "https://localhost:8080/"
        },
        "collapsed": true,
        "id": "4cJ26NMRJ_Ks",
        "outputId": "dd371f30-f007-4fca-cf14-ba62abd2f291"
      },
      "execution_count": 165,
      "outputs": [
        {
          "output_type": "stream",
          "name": "stdout",
          "text": [
            "Index(['GPA', 'comfort_food', 'comfort_food_reasons', 'diet_current',\n",
            "       'eating_changes', 'father_profession', 'fav_cuisine', 'food_childhood',\n",
            "       'healthy_meal', 'ideal_diet', 'meals_dinner_friend',\n",
            "       'mother_profession', 'type_sports', 'weight'],\n",
            "      dtype='object')\n"
          ]
        }
      ]
    },
    {
      "cell_type": "markdown",
      "source": [
        "Após fazer a filtragem, observei que as colunas `GPA` e `Weight` estão como tipo `object`, quando na verdade deveriam ser numéricas. Irei ajustá-las."
      ],
      "metadata": {
        "id": "_Og3uAFcKWlU"
      }
    },
    {
      "cell_type": "code",
      "source": [
        "# Convertendo as colunas para float:\n",
        "\n",
        "df['GPA'] = pd.to_numeric(df['GPA'], errors='coerce')\n",
        "df['weight'] = pd.to_numeric(df['weight'], errors='coerce')"
      ],
      "metadata": {
        "id": "ru-OlFYpLWh7"
      },
      "execution_count": 166,
      "outputs": []
    },
    {
      "cell_type": "markdown",
      "source": [
        "Filtrando as colunas númericas para que posteriormente elas sejam preenchidas utilizando `SimpleImputer`:"
      ],
      "metadata": {
        "id": "Rcz56kp7Gjli"
      }
    },
    {
      "cell_type": "code",
      "source": [
        "numeric_columns = df.select_dtypes(include=['number']).columns\n",
        "print(numeric_columns)"
      ],
      "metadata": {
        "colab": {
          "base_uri": "https://localhost:8080/"
        },
        "collapsed": true,
        "id": "e62zp6XIGA4s",
        "outputId": "357e4a9c-aa9b-4cde-973a-f2c720ecea9e"
      },
      "execution_count": 167,
      "outputs": [
        {
          "output_type": "stream",
          "name": "stdout",
          "text": [
            "Index(['GPA', 'Gender', 'breakfast', 'calories_chicken', 'calories_day',\n",
            "       'calories_scone', 'coffee', 'comfort_food_reasons_coded', 'cook',\n",
            "       'comfort_food_reasons_coded.1', 'cuisine', 'diet_current_coded',\n",
            "       'drink', 'eating_changes_coded', 'eating_changes_coded1', 'eating_out',\n",
            "       'employment', 'ethnic_food', 'exercise', 'father_education',\n",
            "       'fav_cuisine_coded', 'fav_food', 'fries', 'fruit_day', 'grade_level',\n",
            "       'greek_food', 'healthy_feeling', 'ideal_diet_coded', 'income',\n",
            "       'indian_food', 'italian_food', 'life_rewarding', 'marital_status',\n",
            "       'mother_education', 'nutritional_check', 'on_off_campus',\n",
            "       'parents_cook', 'pay_meal_out', 'persian_food',\n",
            "       'self_perception_weight', 'soup', 'sports', 'thai_food',\n",
            "       'tortilla_calories', 'turkey_calories', 'veggies_day', 'vitamins',\n",
            "       'waffle_calories', 'weight'],\n",
            "      dtype='object')\n"
          ]
        }
      ]
    },
    {
      "cell_type": "code",
      "source": [
        "# Aplicando SimpleImputer somente nas colunas numéricas\n",
        "imputer = SimpleImputer(strategy=\"median\")\n",
        "df[numeric_columns] = imputer.fit_transform(df[numeric_columns])"
      ],
      "metadata": {
        "id": "d7mSfo7bG8Au"
      },
      "execution_count": 168,
      "outputs": []
    },
    {
      "cell_type": "code",
      "source": [
        "# Tratando as colunas não númericas com SimpleImputer:\n",
        "colunas_nao_num = [\n",
        "    'diet_current', 'eating_changes', 'father_profession',\n",
        "    'fav_cuisine', 'food_childhood', 'healthy_meal',\n",
        "    'ideal_diet', 'meals_dinner_friend', 'mother_profession', 'type_sports'\n",
        "]\n",
        "\n",
        "imputer_cat = SimpleImputer(strategy='most_frequent')\n",
        "df[colunas_nao_num] = imputer_cat.fit_transform(df[colunas_nao_num])"
      ],
      "metadata": {
        "id": "HtsUZ3kmhc26"
      },
      "execution_count": 169,
      "outputs": []
    },
    {
      "cell_type": "markdown",
      "source": [
        "Os dados das colunas comfort_food_reasons e comfort_food estão inconsistentes porque os textos não estão separados nem escritos de maneira padronizada. Irei ajustar para cada palavra ser separada por vírgula e escritas em caracteres minúsculos, utilizando `Pipeline`."
      ],
      "metadata": {
        "id": "EohgPe5aOwgA"
      }
    },
    {
      "cell_type": "code",
      "source": [
        "# Função para padronizar texto\n",
        "def padronizar_texto(text):\n",
        "    if pd.isna(text):  # Verificar valores nulos\n",
        "        return text\n",
        "    text = text.replace(\"and\", \",\").replace(\"/\", \",\")\n",
        "    text = text.replace(\", \", \",\").replace(\" ,\", \",\")\n",
        "    text = text.lower()\n",
        "    return text\n",
        "\n",
        "# Criando o pipeline\n",
        "pipeline = Pipeline([\n",
        "    ('imputer', SimpleImputer(strategy='constant', fill_value='')),\n",
        "])\n",
        "\n",
        "# Aplicando o pipeline nas colunas\n",
        "df['comfort_food_reasons'] = df['comfort_food_reasons'].fillna('').apply(padronizar_texto)\n",
        "df['comfort_food'] = df['comfort_food'].fillna('').apply(padronizar_texto)\n"
      ],
      "metadata": {
        "id": "dDCYB7ggPBd4"
      },
      "execution_count": 170,
      "outputs": []
    },
    {
      "cell_type": "markdown",
      "source": [],
      "metadata": {
        "id": "-nxUB213y7jI"
      }
    },
    {
      "cell_type": "markdown",
      "source": [
        "Verificando as informações do dataset após os passos anteriores, podemos observar que não há mais nenhum dado faltante no conjunto de dados:\n"
      ],
      "metadata": {
        "id": "0a1KBcOByH21"
      }
    },
    {
      "cell_type": "code",
      "source": [
        "df.info()"
      ],
      "metadata": {
        "colab": {
          "base_uri": "https://localhost:8080/"
        },
        "id": "aqyqlrjEtF4_",
        "outputId": "2fb23c91-ce51-465e-e31b-abf15e481261"
      },
      "execution_count": 171,
      "outputs": [
        {
          "output_type": "stream",
          "name": "stdout",
          "text": [
            "<class 'pandas.core.frame.DataFrame'>\n",
            "RangeIndex: 125 entries, 0 to 124\n",
            "Data columns (total 61 columns):\n",
            " #   Column                        Non-Null Count  Dtype  \n",
            "---  ------                        --------------  -----  \n",
            " 0   GPA                           125 non-null    float64\n",
            " 1   Gender                        125 non-null    float64\n",
            " 2   breakfast                     125 non-null    float64\n",
            " 3   calories_chicken              125 non-null    float64\n",
            " 4   calories_day                  125 non-null    float64\n",
            " 5   calories_scone                125 non-null    float64\n",
            " 6   coffee                        125 non-null    float64\n",
            " 7   comfort_food                  125 non-null    object \n",
            " 8   comfort_food_reasons          125 non-null    object \n",
            " 9   comfort_food_reasons_coded    125 non-null    float64\n",
            " 10  cook                          125 non-null    float64\n",
            " 11  comfort_food_reasons_coded.1  125 non-null    float64\n",
            " 12  cuisine                       125 non-null    float64\n",
            " 13  diet_current                  125 non-null    object \n",
            " 14  diet_current_coded            125 non-null    float64\n",
            " 15  drink                         125 non-null    float64\n",
            " 16  eating_changes                125 non-null    object \n",
            " 17  eating_changes_coded          125 non-null    float64\n",
            " 18  eating_changes_coded1         125 non-null    float64\n",
            " 19  eating_out                    125 non-null    float64\n",
            " 20  employment                    125 non-null    float64\n",
            " 21  ethnic_food                   125 non-null    float64\n",
            " 22  exercise                      125 non-null    float64\n",
            " 23  father_education              125 non-null    float64\n",
            " 24  father_profession             125 non-null    object \n",
            " 25  fav_cuisine                   125 non-null    object \n",
            " 26  fav_cuisine_coded             125 non-null    float64\n",
            " 27  fav_food                      125 non-null    float64\n",
            " 28  food_childhood                125 non-null    object \n",
            " 29  fries                         125 non-null    float64\n",
            " 30  fruit_day                     125 non-null    float64\n",
            " 31  grade_level                   125 non-null    float64\n",
            " 32  greek_food                    125 non-null    float64\n",
            " 33  healthy_feeling               125 non-null    float64\n",
            " 34  healthy_meal                  125 non-null    object \n",
            " 35  ideal_diet                    125 non-null    object \n",
            " 36  ideal_diet_coded              125 non-null    float64\n",
            " 37  income                        125 non-null    float64\n",
            " 38  indian_food                   125 non-null    float64\n",
            " 39  italian_food                  125 non-null    float64\n",
            " 40  life_rewarding                125 non-null    float64\n",
            " 41  marital_status                125 non-null    float64\n",
            " 42  meals_dinner_friend           125 non-null    object \n",
            " 43  mother_education              125 non-null    float64\n",
            " 44  mother_profession             125 non-null    object \n",
            " 45  nutritional_check             125 non-null    float64\n",
            " 46  on_off_campus                 125 non-null    float64\n",
            " 47  parents_cook                  125 non-null    float64\n",
            " 48  pay_meal_out                  125 non-null    float64\n",
            " 49  persian_food                  125 non-null    float64\n",
            " 50  self_perception_weight        125 non-null    float64\n",
            " 51  soup                          125 non-null    float64\n",
            " 52  sports                        125 non-null    float64\n",
            " 53  thai_food                     125 non-null    float64\n",
            " 54  tortilla_calories             125 non-null    float64\n",
            " 55  turkey_calories               125 non-null    float64\n",
            " 56  type_sports                   125 non-null    object \n",
            " 57  veggies_day                   125 non-null    float64\n",
            " 58  vitamins                      125 non-null    float64\n",
            " 59  waffle_calories               125 non-null    float64\n",
            " 60  weight                        125 non-null    float64\n",
            "dtypes: float64(49), object(12)\n",
            "memory usage: 59.7+ KB\n"
          ]
        }
      ]
    }
  ],
  "metadata": {
    "kernelspec": {
      "display_name": "Python 3 (ipykernel)",
      "language": "python",
      "name": "python3"
    },
    "language_info": {
      "codemirror_mode": {
        "name": "ipython",
        "version": 3
      },
      "file_extension": ".py",
      "mimetype": "text/x-python",
      "name": "python",
      "nbconvert_exporter": "python",
      "pygments_lexer": "ipython3",
      "version": "3.10.12"
    },
    "colab": {
      "provenance": []
    }
  },
  "nbformat": 4,
  "nbformat_minor": 0
}